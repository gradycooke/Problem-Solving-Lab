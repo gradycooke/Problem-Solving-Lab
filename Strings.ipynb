{
 "cells": [
  {
   "cell_type": "markdown",
   "id": "4fabe04a-856e-4a59-b632-3c92423c0bdf",
   "metadata": {},
   "source": [
    "# Strings\n",
    "\n",
    "### *Author:* Grady Cooke\n",
    "### *Date:* June 14, 2025"
   ]
  },
  {
   "cell_type": "markdown",
   "id": "0351e571-d770-4ed8-bb2f-9a383daf155a",
   "metadata": {},
   "source": [
    "## Summary\n",
    "\n",
    "This notebook explores string manipulation and analysis through a variety of custom Python functions. It includes tools for reversing strings, checking for palindromes and anagrams, counting vowels and consonants, analyzing character types, identifying the most common letters or characters, and detecting repeating substrings. The notebook also visualizes string patterns with functions that generate bigram heatmaps and letter frequency bar plots. "
   ]
  },
  {
   "cell_type": "code",
   "execution_count": 3,
   "id": "e0527622-a6d0-454d-922b-2f9719672418",
   "metadata": {},
   "outputs": [],
   "source": [
    "# imports\n",
    "import re\n",
    "from collections import Counter\n",
    "import pandas as pd\n",
    "import matplotlib.pyplot as plt\n",
    "import seaborn as sns\n",
    "import string"
   ]
  },
  {
   "cell_type": "markdown",
   "id": "0c5ba4c4-91af-417e-9295-610e7cd5414f",
   "metadata": {},
   "source": [
    "## String Functions"
   ]
  },
  {
   "cell_type": "markdown",
   "id": "e0b6cc0b-086e-43ba-9168-0fbf00127621",
   "metadata": {},
   "source": [
    "### Reverse a string"
   ]
  },
  {
   "cell_type": "code",
   "execution_count": 6,
   "id": "8593c2e6-30b0-41d1-9e25-cfda50915385",
   "metadata": {},
   "outputs": [],
   "source": [
    "def reverse_string(s):\n",
    "    return s[::-1]"
   ]
  },
  {
   "cell_type": "markdown",
   "id": "517e9591-d28b-4208-b1f3-5a5ff3f74f07",
   "metadata": {},
   "source": [
    "### Normalize a string (remove spaces, punctuation, and case)"
   ]
  },
  {
   "cell_type": "code",
   "execution_count": 8,
   "id": "cdaeb065-d206-4d20-9536-87c757409902",
   "metadata": {},
   "outputs": [],
   "source": [
    "def normalize_string(s):\n",
    "    return re.sub(r'[^a-z0-9]', '', s.lower())"
   ]
  },
  {
   "cell_type": "markdown",
   "id": "7c5e856a-52d0-45b7-8731-310a6fbbfcb9",
   "metadata": {},
   "source": [
    "### Test if a string is a palindrome (disregarding spaces, punctuation, and case)"
   ]
  },
  {
   "cell_type": "code",
   "execution_count": 10,
   "id": "8e0ad4a6-ce76-411e-90a3-5895cf073a7a",
   "metadata": {},
   "outputs": [],
   "source": [
    "def is_palindrome(s):\n",
    "    normalized = normalize_string(s)\n",
    "    return normalized == normalized[::-1]"
   ]
  },
  {
   "cell_type": "markdown",
   "id": "12ad73e3-d7b4-4f28-b520-54a82d5a5f78",
   "metadata": {},
   "source": [
    "### Check if two strings are anagrams"
   ]
  },
  {
   "cell_type": "code",
   "execution_count": 12,
   "id": "baad5f0e-0fb5-4911-9805-54b2e9717ef5",
   "metadata": {},
   "outputs": [],
   "source": [
    "def are_anagrams(s1, s2):\n",
    "    return sorted(normalize_string(s1)) == sorted(normalize_string(s2))"
   ]
  },
  {
   "cell_type": "markdown",
   "id": "2eee18e9-fb4f-48dd-94fb-285abc5a79d6",
   "metadata": {},
   "source": [
    "### Count the vowels and consonants in a string"
   ]
  },
  {
   "cell_type": "code",
   "execution_count": 14,
   "id": "d357fffd-dd5f-43e9-b63b-9ef0368f173d",
   "metadata": {},
   "outputs": [],
   "source": [
    "def is_vowel(char):\n",
    "    return char.lower() in 'aeiou'\n",
    "\n",
    "def count_vowels_and_consonants(s):\n",
    "    counts = {'vowels': 0, 'consonants': 0}\n",
    "    for char in s.lower():\n",
    "        if char.isalpha():\n",
    "            if is_vowel(char):\n",
    "                counts['vowels'] += 1\n",
    "            else:\n",
    "                counts['consonants'] += 1\n",
    "    return counts"
   ]
  },
  {
   "cell_type": "markdown",
   "id": "268b01e8-da9c-4fc4-85c4-e830c05d3586",
   "metadata": {},
   "source": [
    "### Find the most common character and find the most common letter in a string"
   ]
  },
  {
   "cell_type": "code",
   "execution_count": 16,
   "id": "5a3c479a-1063-4ed1-9d84-ae30d1406254",
   "metadata": {},
   "outputs": [],
   "source": [
    "def most_common_char(s):\n",
    "    s = s.lower()\n",
    "    if not s:\n",
    "        return None\n",
    "    counter = Counter(s)\n",
    "    max_count = max(counter.values())\n",
    "    most_common = [char for char, count in counter.items() if count == max_count]\n",
    "    return most_common if len(most_common) > 1 else most_common[0]"
   ]
  },
  {
   "cell_type": "code",
   "execution_count": 17,
   "id": "a8717f98-00ca-459e-bd75-473986dde68e",
   "metadata": {},
   "outputs": [],
   "source": [
    "def most_common_letter(s):\n",
    "    s = normalize_string(s)\n",
    "    if not s:\n",
    "        return None\n",
    "    counter = Counter(s)\n",
    "    max_count = max(counter.values())\n",
    "    most_common = [char for char, count in counter.items() if count == max_count]\n",
    "    return most_common if len(most_common) > 1 else most_common[0]"
   ]
  },
  {
   "cell_type": "markdown",
   "id": "876bb510-d2f0-4cf5-aeac-8f3e97b6f9c5",
   "metadata": {},
   "source": [
    "### Find the longest word in a string"
   ]
  },
  {
   "cell_type": "code",
   "execution_count": 19,
   "id": "8420658a-7e9e-4277-8d48-b7ef58e3d9fa",
   "metadata": {},
   "outputs": [],
   "source": [
    " \"\"\"\n",
    "    clean_for_word_analysis(s) converts the string to lowercase and replaces punctuation with spaces,\n",
    "    retaining only alphanumeric characters and whitespace.\n",
    "\"\"\"\n",
    "def clean_for_word_analysis(s):\n",
    "    return ''.join(c.lower() if c.isalnum() or c.isspace() else ' ' for c in s)\n",
    "\n",
    "def longest_word(sentence):\n",
    "    cleaned = clean_for_word_analysis(sentence)\n",
    "    words = cleaned.split()\n",
    "    return max(words, key=len) if words else None"
   ]
  },
  {
   "cell_type": "markdown",
   "id": "317324c4-f5d1-4dcb-af2f-3facdfdf31cc",
   "metadata": {},
   "source": [
    "### Check if a string is a pangram (all 26 letters are present)"
   ]
  },
  {
   "cell_type": "code",
   "execution_count": 21,
   "id": "5035ae8a-d925-43b4-ae8a-3193f34914c1",
   "metadata": {},
   "outputs": [],
   "source": [
    "def is_pangram(sentence):\n",
    "    normalized = normalize_string(sentence)\n",
    "    return set(\"abcdefghijklmnopqrstuvwxyz\").issubset(set(normalized))"
   ]
  },
  {
   "cell_type": "markdown",
   "id": "22b4176e-8032-436d-8894-9a401f7a9347",
   "metadata": {},
   "source": [
    "### In a string, determine the counts of uppercase letters, lowercase letters, digits, punctuation, and whitespaces"
   ]
  },
  {
   "cell_type": "code",
   "execution_count": 23,
   "id": "7b3d429c-e0b0-44e5-8f43-b0b5c605ff6c",
   "metadata": {},
   "outputs": [],
   "source": [
    "def analyze_char_types(s):\n",
    "\n",
    "    result = {\n",
    "        'uppercase': 0,\n",
    "        'lowercase': 0,\n",
    "        'digits': 0,\n",
    "        'punctuation': 0,\n",
    "        'whitespace': 0\n",
    "    }\n",
    "\n",
    "    for char in s:\n",
    "        if char.isupper():\n",
    "            result['uppercase'] += 1\n",
    "        elif char.islower():\n",
    "            result['lowercase'] += 1\n",
    "        elif char.isdigit():\n",
    "            result['digits'] += 1\n",
    "        elif char.isspace():\n",
    "            result['whitespace'] += 1\n",
    "        else:\n",
    "            result['punctuation'] += 1\n",
    "\n",
    "    return result"
   ]
  },
  {
   "cell_type": "markdown",
   "id": "c9f9b98e-b616-4733-a65a-2eb22662aec7",
   "metadata": {},
   "source": [
    "## Testing Functions"
   ]
  },
  {
   "cell_type": "code",
   "execution_count": 25,
   "id": "73613709-31c2-4ff5-8ea5-4b1f96a0240c",
   "metadata": {},
   "outputs": [
    {
     "data": {
      "text/plain": [
       "'stressed'"
      ]
     },
     "execution_count": 25,
     "metadata": {},
     "output_type": "execute_result"
    }
   ],
   "source": [
    "reverse_string(\"desserts\")"
   ]
  },
  {
   "cell_type": "code",
   "execution_count": 26,
   "id": "07c42d88-0798-4f4f-ab45-e83a3d9ca087",
   "metadata": {},
   "outputs": [
    {
     "data": {
      "text/plain": [
       "'helloworld'"
      ]
     },
     "execution_count": 26,
     "metadata": {},
     "output_type": "execute_result"
    }
   ],
   "source": [
    "normalize_string(\"Hello World!\")"
   ]
  },
  {
   "cell_type": "code",
   "execution_count": 27,
   "id": "9883d3d0-e7d8-46d3-acfc-db77c58edf2a",
   "metadata": {},
   "outputs": [
    {
     "data": {
      "text/plain": [
       "True"
      ]
     },
     "execution_count": 27,
     "metadata": {},
     "output_type": "execute_result"
    }
   ],
   "source": [
    "is_palindrome(\"A man, a plan, a canal — Panama.\")"
   ]
  },
  {
   "cell_type": "code",
   "execution_count": 28,
   "id": "f9137dcf-a5c0-4c84-8989-84acf60de0da",
   "metadata": {},
   "outputs": [
    {
     "data": {
      "text/plain": [
       "True"
      ]
     },
     "execution_count": 28,
     "metadata": {},
     "output_type": "execute_result"
    }
   ],
   "source": [
    "are_anagrams(\"Dormitory\",\"Dirty Room\")"
   ]
  },
  {
   "cell_type": "code",
   "execution_count": 29,
   "id": "c5d37e3d-af35-4105-b052-fe3aff4950dd",
   "metadata": {},
   "outputs": [
    {
     "data": {
      "text/plain": [
       "{'vowels': 8, 'consonants': 10}"
      ]
     },
     "execution_count": 29,
     "metadata": {},
     "output_type": "execute_result"
    }
   ],
   "source": [
    "count_vowels_and_consonants(\"I think, therefore I am.\")"
   ]
  },
  {
   "cell_type": "code",
   "execution_count": 30,
   "id": "d4f462f6-fffb-4946-80f0-bb32fdbbfd3b",
   "metadata": {},
   "outputs": [
    {
     "data": {
      "text/plain": [
       "['(', ')']"
      ]
     },
     "execution_count": 30,
     "metadata": {},
     "output_type": "execute_result"
    }
   ],
   "source": [
    "most_common_char(\"...,,,,##&&&*****(((((())))))aaa\")"
   ]
  },
  {
   "cell_type": "code",
   "execution_count": 31,
   "id": "3fbc1be9-f273-4585-8cb4-3774a40d67bf",
   "metadata": {},
   "outputs": [
    {
     "data": {
      "text/plain": [
       "'e'"
      ]
     },
     "execution_count": 31,
     "metadata": {},
     "output_type": "execute_result"
    }
   ],
   "source": [
    "most_common_letter(\"\"\"When, in the course of human events, it becomes necessary for one \n",
    "people to dissolve the political bands which have connected them with another, and to assume, \n",
    "among the powers of the earth, the separate and equal station to which the laws of nature and of nature's God entitle them, \n",
    "a decent respect to the opinions of mankind requires that they should declare the causes which impel them to the separation.\"\"\")"
   ]
  },
  {
   "cell_type": "code",
   "execution_count": 32,
   "id": "1d6d800b-9911-443f-9224-c1c99a2e94bd",
   "metadata": {},
   "outputs": [
    {
     "data": {
      "text/plain": [
       "'mitochondria'"
      ]
     },
     "execution_count": 32,
     "metadata": {},
     "output_type": "execute_result"
    }
   ],
   "source": [
    "longest_word(\"The mitochondria is the powerhouse of the cell.\")"
   ]
  },
  {
   "cell_type": "code",
   "execution_count": 33,
   "id": "fbc3ed95-c22c-4c0b-8f0e-78568c035600",
   "metadata": {},
   "outputs": [
    {
     "data": {
      "text/plain": [
       "True"
      ]
     },
     "execution_count": 33,
     "metadata": {},
     "output_type": "execute_result"
    }
   ],
   "source": [
    "is_pangram(\"The quick brown fox jumps over the lazy dog\")"
   ]
  },
  {
   "cell_type": "code",
   "execution_count": 34,
   "id": "341595d3-a9a3-4106-b77f-27ae5b37fa84",
   "metadata": {},
   "outputs": [
    {
     "data": {
      "text/plain": [
       "{'uppercase': 6,\n",
       " 'lowercase': 244,\n",
       " 'digits': 0,\n",
       " 'punctuation': 6,\n",
       " 'whitespace': 54}"
      ]
     },
     "execution_count": 34,
     "metadata": {},
     "output_type": "execute_result"
    }
   ],
   "source": [
    "analyze_char_types(\"\"\"It was a bright cold day in April, and the clocks were striking\n",
    "thirteen. Winston Smith, his chin nuzzled into his breast in an\n",
    "effort to escape the vile wind, slipped quickly through the glass\n",
    "doors of Victory Mansions, though not quickly enough to prevent\n",
    "a swirl of gritty dust from entering along with him.\"\"\")"
   ]
  },
  {
   "cell_type": "markdown",
   "id": "f3b1de66-4c41-4da4-bf49-9bb284ed7146",
   "metadata": {},
   "source": [
    "## String Visualizations"
   ]
  },
  {
   "cell_type": "markdown",
   "id": "805995fd-2176-4229-8d4a-77d50cbb2873",
   "metadata": {},
   "source": [
    "### Letter Frequency Plot"
   ]
  },
  {
   "cell_type": "markdown",
   "id": "4b84d0e0-d9d3-4804-8cbd-e05c4ac0c5d5",
   "metadata": {},
   "source": [
    "The function generates a bar plot showing how frequently each letter of the alphabet appears in a given text. It first filters the input string to include only lowercase alphabetic characters, then counts the occurrences of each letter. The function constructs a bar plot where each bar represents a letter, with its height corresponding to its frequency in the text. Vowels are visually distinguished using a different color, and each bar is labeled with the exact count above it for clarity. "
   ]
  },
  {
   "cell_type": "code",
   "execution_count": 38,
   "id": "90bb7b78-b34b-4043-984f-5b30035ecc6e",
   "metadata": {},
   "outputs": [],
   "source": [
    "def plot_letter_frequency(text):\n",
    "    # Only keep alphabetic letters\n",
    "    letters_only = ''.join(c for c in text.lower() if c.isalpha())\n",
    "    counts = Counter(letters_only)\n",
    "\n",
    "    # Create DataFrame\n",
    "    alphabet = list(\"abcdefghijklmnopqrstuvwxyz\")\n",
    "    data = pd.DataFrame({\n",
    "        'letter': alphabet,\n",
    "        'count': [counts.get(char, 0) for char in alphabet]\n",
    "    })\n",
    "\n",
    "    total = data['count'].sum()\n",
    "    data['percentage'] = data['count'] / total * 100\n",
    "\n",
    "    # Add color mapping (vowel vs consonant)\n",
    "    vowels = set(\"aeiou\")\n",
    "    data['color'] = data['letter'].apply(lambda c: 'skyblue' if c in vowels else 'lightgray')\n",
    "\n",
    "    # Identify most and least frequent\n",
    "    max_letter = data.loc[data['count'].idxmax()]\n",
    "    min_letter = data.loc[data['count'].idxmin()]\n",
    "\n",
    "    # Plot\n",
    "    plt.figure(figsize=(12, 6))\n",
    "    bars = plt.bar(data['letter'], data['count'], color=data['color'], edgecolor='black')\n",
    "\n",
    "    # Annotate each bar with its count\n",
    "    for bar, count in zip(bars, data['count']):\n",
    "        plt.text(\n",
    "            bar.get_x() + bar.get_width() / 2,\n",
    "            bar.get_height() + 1,\n",
    "            str(count),\n",
    "            ha='center',\n",
    "            va='bottom',\n",
    "            fontsize=9,\n",
    "            color='black'\n",
    "        )\n",
    "\n",
    "    plt.title(\"Letter Frequency Bar Plot\")\n",
    "    plt.xlabel(\"Letter\")\n",
    "    plt.ylabel(\"Count\")\n",
    "    plt.grid(axis='y', linestyle='--', alpha=0.5)\n",
    "    plt.tight_layout()\n",
    "    plt.show()"
   ]
  },
  {
   "cell_type": "code",
   "execution_count": 39,
   "id": "2da7beba-ab7b-4305-99d2-43f77697d381",
   "metadata": {},
   "outputs": [
    {
     "data": {
      "image/png": "[encoded data removed]",
      "text/plain": [
       "<Figure size 1200x600 with 1 Axes>"
      ]
     },
     "metadata": {},
     "output_type": "display_data"
    }
   ],
   "source": [
    "plot_letter_frequency(\"\"\"It was the best of times, it was the worst of times, it was the age of wisdom, it was the age of foolishness, \n",
    "it was the epoch of belief, it was the epoch of incredulity, it was the season of Light, it was the season of Darkness, \n",
    "it was the spring of hope, it was the winter of despair, we had everything before us, we had nothing before us, \n",
    "we were all going direct to Heaven, we were all going direct the other way – in short, the period was so far like the present period,\n",
    "that some of its noisiest authorities insisted on its being received, for good or for evil, in the superlative degree of comparison only.\"\"\")"
   ]
  },
  {
   "cell_type": "markdown",
   "id": "1a5eac9e-13e2-4b9f-a044-72bc9f71739d",
   "metadata": {},
   "source": [
    "### Bigram Heatmap"
   ]
  },
  {
   "cell_type": "markdown",
   "id": "b582873c-0fd9-4fc4-ac49-09742528bdc8",
   "metadata": {},
   "source": [
    "The function generates a visual heatmap showing how frequently each letter of the alphabet is followed by another letter within a given string. It first normalizes the input by converting all characters to lowercase and removing anything that isn’t a letter. Then, it constructs a frequency matrix of letter-to-letter transitions (bigrams), optionally normalizes these frequencies, and uses a heatmap to highlight common patterns in letter adjacency. "
   ]
  },
  {
   "cell_type": "code",
   "execution_count": 42,
   "id": "f4e9f8ed-4f7a-4c90-9d70-c44f34ed8bd8",
   "metadata": {},
   "outputs": [],
   "source": [
    "def bigram_heatmap(s, normalize=True, plot=True):\n",
    "    s = ''.join(c.lower() for c in s if c.isalpha())\n",
    "    bigrams = [(s[i], s[i + 1]) for i in range(len(s) - 1)]\n",
    "\n",
    "    df = pd.DataFrame(bigrams, columns=['first', 'second'])\n",
    "    matrix = df.pivot_table(index='first', columns='second', aggfunc=len, fill_value=0)\n",
    "\n",
    "    if normalize:\n",
    "        matrix = matrix.div(matrix.sum(axis=1), axis=0)  # Normalize by row\n",
    "\n",
    "    if plot:\n",
    "        plt.figure(figsize=(10, 8))\n",
    "        sns.heatmap(matrix, cmap=\"Blues\", linewidths=0.5)\n",
    "        plt.title(\"Bigram Heatmap (Normalized)\" if normalize else \"Bigram Heatmap\")\n",
    "        plt.xlabel(\"Next Letter\")\n",
    "        plt.ylabel(\"Current Letter\")\n",
    "        plt.show()\n",
    "\n",
    " #   return matrix"
   ]
  },
  {
   "cell_type": "code",
   "execution_count": 43,
   "id": "f2acd425-3ba8-40e0-ae6c-86dd8d50c65e",
   "metadata": {},
   "outputs": [
    {
     "data": {
      "image/png": "[encoded data removed]",
      "text/plain": [
       "<Figure size 1000x800 with 2 Axes>"
      ]
     },
     "metadata": {},
     "output_type": "display_data"
    }
   ],
   "source": [
    "bigram_heatmap(\"\"\"Call me Ishmael. Some years ago—never mind how long precisely—having little or no money in my purse, \n",
    "and nothing particular to interest me on shore, I thought I would sail about a little and see the watery part of the world. \n",
    "It is a way I have of driving off the spleen and regulating the circulation. Whenever I find myself growing grim about the mouth; \n",
    "whenever it is a damp, drizzly November in my soul; whenever I find myself involuntarily pausing before coffin warehouses, \n",
    "and bringing up the rear of every funeral I meet; and especially whenever my hypos get such an upper hand of me, \n",
    "that it requires a strong moral principle to prevent me from deliberately stepping into the street, \n",
    "and methodically knocking people’s hats off—then, I account it high time tozz get to sea as soon as I can. \n",
    "This is my substitute for pistol and ball. With a philosophical flourish Cato throws himself upon his sword; \n",
    "I quietly take to the ship. There is nothing surprising in this. If they but knew it, almost all men in their degree, \n",
    "some time or other, cherish very nearly the same feelings towards the ocean with me.\"\"\")"
   ]
  },
  {
   "cell_type": "code",
   "execution_count": null,
   "id": "d674430b-3d58-4109-a56d-6f23d70a38bd",
   "metadata": {},
   "outputs": [],
   "source": []
  }
 ],
 "metadata": {
  "kernelspec": {
   "display_name": "Python 3 (ipykernel)",
   "language": "python",
   "name": "python3"
  },
  "language_info": {
   "codemirror_mode": {
    "name": "ipython",
    "version": 3
   },
   "file_extension": ".py",
   "mimetype": "text/x-python",
   "name": "python",
   "nbconvert_exporter": "python",
   "pygments_lexer": "ipython3",
   "version": "3.12.4"
  }
 },
 "nbformat": 4,
 "nbformat_minor": 5
}

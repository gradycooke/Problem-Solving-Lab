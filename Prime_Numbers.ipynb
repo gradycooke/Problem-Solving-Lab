{
 "cells": [
  {
   "cell_type": "markdown",
   "id": "6362ac56-4fc2-488b-80dc-4ecad4d19bb9",
   "metadata": {},
   "source": [
    "# Prime Numbers\n",
    "\n",
    "### *Author:* Grady Cooke\n",
    "### *Date:* June 9, 2025"
   ]
  },
  {
   "cell_type": "markdown",
   "id": "006de80c-0a05-4a28-8b74-c0fffca83871",
   "metadata": {},
   "source": [
    "## Summary\n",
    "\n",
    "This project explores the properties of prime numbers through custom Python functions. It includes efficient tools to compute primes up to a given number, analyze gaps, find palindromic primes, and optionally filter primes by their ending digit. The results are neatly summarized in a dictionary with horizontally formatted outputs for easy readability."
   ]
  },
  {
   "cell_type": "code",
   "execution_count": 3,
   "id": "96a89fcc-c974-4446-a850-1bdc5e8d407a",
   "metadata": {},
   "outputs": [],
   "source": [
    "# Imports\n",
    "import numpy as np"
   ]
  },
  {
   "cell_type": "markdown",
   "id": "fc05aea5-ad6b-41ad-9960-2ef522749f20",
   "metadata": {},
   "source": [
    "## Is a number n prime? "
   ]
  },
  {
   "cell_type": "code",
   "execution_count": 5,
   "id": "0d9d68ca-e8f9-4a64-933c-4b2c436d237f",
   "metadata": {},
   "outputs": [],
   "source": [
    "def is_prime(n):\n",
    "    if n < 2:\n",
    "        return False\n",
    "    for i in range(2, int(n**0.5) + 1):\n",
    "        if n % i == 0:\n",
    "            return False\n",
    "    return True"
   ]
  },
  {
   "cell_type": "markdown",
   "id": "31a9ebcd-13f4-4d4b-88af-9d1a33c6d842",
   "metadata": {},
   "source": [
    "## What are the primes up to a given integer n?"
   ]
  },
  {
   "cell_type": "code",
   "execution_count": 7,
   "id": "e893f4d6-db24-4702-b1d9-70f8cd16a898",
   "metadata": {},
   "outputs": [],
   "source": [
    "def primes_up_to(n):\n",
    "    return [i for i in range(2, n+1) if is_prime(i)]"
   ]
  },
  {
   "cell_type": "markdown",
   "id": "0a5da220-90a7-499f-96b2-c6eb9a7f759b",
   "metadata": {},
   "source": [
    "## What is the sum of primes up to some number n?"
   ]
  },
  {
   "cell_type": "code",
   "execution_count": 9,
   "id": "f85641cc-96a8-4167-9072-96be08d3f937",
   "metadata": {},
   "outputs": [],
   "source": [
    "def sum_primes_up_to(n):\n",
    "    return sum(primes_up_to(n))"
   ]
  },
  {
   "cell_type": "markdown",
   "id": "2f3cd13f-0bac-4958-8936-491cbca85100",
   "metadata": {},
   "source": [
    "## What is the product of primes up to n?"
   ]
  },
  {
   "cell_type": "code",
   "execution_count": 11,
   "id": "43242747-639e-46a1-a4cc-05aa2ad7279e",
   "metadata": {},
   "outputs": [],
   "source": [
    "def product_primes_up_to(n):\n",
    "    return np.prod(primes_up_to(n))"
   ]
  },
  {
   "cell_type": "markdown",
   "id": "9d0390a8-c3db-497b-925f-f4fe347dd132",
   "metadata": {},
   "source": [
    "## What are all of the primes between two numbers a and b?"
   ]
  },
  {
   "cell_type": "code",
   "execution_count": 13,
   "id": "f8432e62-1ba5-4062-81b2-e52bc73d8280",
   "metadata": {},
   "outputs": [],
   "source": [
    "def primes_between(a, b):\n",
    "    return [i for i in range(max(2, a), b + 1) if is_prime(i)]"
   ]
  },
  {
   "cell_type": "markdown",
   "id": "2e5143f3-2020-4150-8922-40389c176c48",
   "metadata": {},
   "source": [
    "## What is the sum of primes between a and b?"
   ]
  },
  {
   "cell_type": "code",
   "execution_count": 15,
   "id": "d0bc8d36-7e24-486d-8b2b-b007d4bf4675",
   "metadata": {},
   "outputs": [],
   "source": [
    "def sum_primes_between(a, b):\n",
    "    return sum(i for i in range(max(2, a), b + 1) if is_prime(i))"
   ]
  },
  {
   "cell_type": "markdown",
   "id": "e36d4eff-fefb-4643-be1d-986e4c05e4e1",
   "metadata": {},
   "source": [
    "## What is the largest prime <= n?\n",
    "## What is the smallest prime >= n?"
   ]
  },
  {
   "cell_type": "code",
   "execution_count": 17,
   "id": "2c687861-9817-45bd-9c89-20f9fd19d06e",
   "metadata": {},
   "outputs": [],
   "source": [
    "def largest_prime_below(n):\n",
    "    for i in range(n, 1, -1):\n",
    "        if is_prime(i):\n",
    "            return i\n",
    "    return None\n",
    "\n",
    "def smallest_prime_above(n):\n",
    "    i = max(2, n)\n",
    "    while True:\n",
    "        if is_prime(i):\n",
    "            return i\n",
    "        i += 1"
   ]
  },
  {
   "cell_type": "markdown",
   "id": "60fb0e9f-5c86-4264-8958-958ce2c1796a",
   "metadata": {},
   "source": [
    "## What primes below n end in some number a?"
   ]
  },
  {
   "cell_type": "code",
   "execution_count": 19,
   "id": "b2f8b63a-d26c-433e-884c-b1d7302c6ea5",
   "metadata": {},
   "outputs": [],
   "source": [
    "def primes_ending_in(n, a):\n",
    "    if not (0 <= a <= 9):\n",
    "        raise ValueError(\"a must be a digit from 0 to 9\")\n",
    "    return [p for p in range(2, n) if is_prime(p) and p % 10 == a]"
   ]
  },
  {
   "cell_type": "markdown",
   "id": "654bb89b-6457-4e92-be4f-647098572579",
   "metadata": {},
   "source": [
    "## What is the largest gap in primes up to a number n and what are these primes?"
   ]
  },
  {
   "cell_type": "code",
   "execution_count": 21,
   "id": "806b0a4a-8a7b-4d64-a987-b63d329510ce",
   "metadata": {},
   "outputs": [],
   "source": [
    "def largest_prime_gap(n):\n",
    "    primes = primes_up_to(n)\n",
    "    max_gap = 0\n",
    "    max_pair = (None, None)\n",
    "\n",
    "    for i in range(1, len(primes)):\n",
    "        gap = primes[i] - primes[i-1]\n",
    "        if gap > max_gap:\n",
    "            max_gap = gap\n",
    "            max_pair = (primes[i-1], primes[i])\n",
    "\n",
    "    return max_pair[0], max_pair[1], max_gap"
   ]
  },
  {
   "cell_type": "markdown",
   "id": "0ab25acd-79ae-4698-81b8-96facbd08903",
   "metadata": {},
   "source": [
    "## What is the average gap size between primes up to a number n?"
   ]
  },
  {
   "cell_type": "code",
   "execution_count": 23,
   "id": "f0592e98-042e-4f88-a72b-beaca5bf5719",
   "metadata": {},
   "outputs": [],
   "source": [
    "def average_prime_gap(n):\n",
    "    primes = primes_up_to(n)\n",
    "    if len(primes) < 2:\n",
    "        return 0  # No gap possible\n",
    "\n",
    "    gaps = [primes[i] - primes[i-1] for i in range(1, len(primes))]\n",
    "    return sum(gaps) / len(gaps)"
   ]
  },
  {
   "cell_type": "markdown",
   "id": "160aa076-7bf1-4bdb-977e-edfbeb367581",
   "metadata": {},
   "source": [
    "## What are the palindromic primes up to n?\n"
   ]
  },
  {
   "cell_type": "code",
   "execution_count": 25,
   "id": "94a785cf-16d6-4975-859a-bd56cb5a6b2a",
   "metadata": {},
   "outputs": [],
   "source": [
    "def is_palindrome(n):\n",
    "    return str(n) == str(n)[::-1]\n",
    "\n",
    "def palindromic_primes_up_to(n):\n",
    "    return [i for i in range(2, n + 1) if is_palindrome(i) and is_prime(i)]"
   ]
  },
  {
   "cell_type": "markdown",
   "id": "412711f0-4312-408e-a124-1bf732aa3f90",
   "metadata": {},
   "source": [
    "## Summary for primes up to n"
   ]
  },
  {
   "cell_type": "code",
   "execution_count": 27,
   "id": "681a9d13-2afa-4b68-b438-8b7949570db3",
   "metadata": {},
   "outputs": [],
   "source": [
    "def prime_summary_up_to(n, ending_digit=None):\n",
    "    primes = primes_up_to(n)\n",
    "    summary = {\n",
    "        \"up_to_n\": n,\n",
    "        \"prime_list\": \", \".join(map(str, primes)),\n",
    "        \"prime_count\": len(primes),\n",
    "        \"sum_of_primes\": sum_primes_up_to(n),\n",
    "        \"product_of_primes\": product_primes_up_to(n),\n",
    "        \"largest_prime_below\": largest_prime_below(n),\n",
    "        \"smallest_prime_above\": smallest_prime_above(n),\n",
    "        \"largest_prime_gap\": largest_prime_gap(n),\n",
    "        \"average_prime_gap\": average_prime_gap(n),\n",
    "         \"palindromic_primes\": \", \".join(map(str, palindromic_primes_up_to(n)))\n",
    "    }\n",
    "\n",
    "   # Add primes ending in a specific digit only if provided\n",
    "    if ending_digit is not None:\n",
    "        primes_with_ending = primes_ending_in(n, ending_digit)\n",
    "        summary[f\"primes_ending_in_{ending_digit}\"] = \", \".join(map(str, primes_with_ending))\n",
    "\n",
    "    return summary"
   ]
  },
  {
   "cell_type": "markdown",
   "id": "049a17e9-1c5a-4b3b-a928-ec9b05dc249e",
   "metadata": {},
   "source": [
    "## Testing functions"
   ]
  },
  {
   "cell_type": "code",
   "execution_count": 29,
   "id": "9b98b858-9451-4f3c-8363-2df9da2da344",
   "metadata": {},
   "outputs": [
    {
     "data": {
      "text/plain": [
       "False"
      ]
     },
     "execution_count": 29,
     "metadata": {},
     "output_type": "execute_result"
    }
   ],
   "source": [
    "is_prime(10)"
   ]
  },
  {
   "cell_type": "code",
   "execution_count": 30,
   "id": "7befd5a4-33fa-4a89-a8b0-7d5309415fba",
   "metadata": {},
   "outputs": [
    {
     "data": {
      "text/plain": [
       "True"
      ]
     },
     "execution_count": 30,
     "metadata": {},
     "output_type": "execute_result"
    }
   ],
   "source": [
    "is_prime(29)"
   ]
  },
  {
   "cell_type": "code",
   "execution_count": 31,
   "id": "b7e97bfc-6365-4b87-a692-789c4f9a36f2",
   "metadata": {},
   "outputs": [
    {
     "data": {
      "text/plain": [
       "[2, 3, 5, 7]"
      ]
     },
     "execution_count": 31,
     "metadata": {},
     "output_type": "execute_result"
    }
   ],
   "source": [
    "primes_up_to(10)"
   ]
  },
  {
   "cell_type": "code",
   "execution_count": 32,
   "id": "d85a60e1-3d94-4f8e-845f-e276b240d823",
   "metadata": {},
   "outputs": [
    {
     "name": "stdout",
     "output_type": "stream",
     "text": [
      "[2, 3, 5, 7, 11, 13, 17, 19, 23, 29, 31, 37, 41, 43, 47, 53, 59, 61, 67, 71, 73, 79, 83, 89, 97]\n"
     ]
    }
   ],
   "source": [
    "print(primes_up_to(100))"
   ]
  },
  {
   "cell_type": "code",
   "execution_count": 33,
   "id": "7a4755f5-440e-4c88-8456-8f7e83764a48",
   "metadata": {},
   "outputs": [
    {
     "data": {
      "text/plain": [
       "1060"
      ]
     },
     "execution_count": 33,
     "metadata": {},
     "output_type": "execute_result"
    }
   ],
   "source": [
    "sum_primes_up_to(100)"
   ]
  },
  {
   "cell_type": "code",
   "execution_count": 34,
   "id": "29d26cb8-df73-4d41-b87d-74e202e15fb6",
   "metadata": {},
   "outputs": [
    {
     "data": {
      "text/plain": [
       "[11, 13, 17, 19]"
      ]
     },
     "execution_count": 34,
     "metadata": {},
     "output_type": "execute_result"
    }
   ],
   "source": [
    "primes_between(10,20)"
   ]
  },
  {
   "cell_type": "code",
   "execution_count": 35,
   "id": "86876d6a-b065-4d76-9990-40406c4fe526",
   "metadata": {},
   "outputs": [
    {
     "data": {
      "text/plain": [
       "60"
      ]
     },
     "execution_count": 35,
     "metadata": {},
     "output_type": "execute_result"
    }
   ],
   "source": [
    "sum_primes_between(10,20)"
   ]
  },
  {
   "cell_type": "code",
   "execution_count": 36,
   "id": "477d2534-89c8-4068-ae12-6590d147f39f",
   "metadata": {},
   "outputs": [
    {
     "data": {
      "text/plain": [
       "997"
      ]
     },
     "execution_count": 36,
     "metadata": {},
     "output_type": "execute_result"
    }
   ],
   "source": [
    "largest_prime_below(1000)"
   ]
  },
  {
   "cell_type": "code",
   "execution_count": 37,
   "id": "273ac0a0-5bc6-4d85-89d1-741e22a95484",
   "metadata": {},
   "outputs": [
    {
     "data": {
      "text/plain": [
       "1009"
      ]
     },
     "execution_count": 37,
     "metadata": {},
     "output_type": "execute_result"
    }
   ],
   "source": [
    "smallest_prime_above(1000)"
   ]
  },
  {
   "cell_type": "code",
   "execution_count": 38,
   "id": "ffabc6dc-553e-4889-be22-749b4219ad29",
   "metadata": {},
   "outputs": [
    {
     "data": {
      "text/plain": [
       "210"
      ]
     },
     "execution_count": 38,
     "metadata": {},
     "output_type": "execute_result"
    }
   ],
   "source": [
    "product_primes_up_to(10)"
   ]
  },
  {
   "cell_type": "code",
   "execution_count": 39,
   "id": "4974147b-edf0-42c9-934d-240743cd234c",
   "metadata": {},
   "outputs": [
    {
     "data": {
      "text/plain": [
       "[7, 17, 37, 47, 67, 97]"
      ]
     },
     "execution_count": 39,
     "metadata": {},
     "output_type": "execute_result"
    }
   ],
   "source": [
    "primes_ending_in(100,7)"
   ]
  },
  {
   "cell_type": "code",
   "execution_count": 40,
   "id": "406e5e7c-7e7a-4f2d-a901-e1f8b369f4a8",
   "metadata": {},
   "outputs": [
    {
     "data": {
      "text/plain": [
       "(887, 907, 20)"
      ]
     },
     "execution_count": 40,
     "metadata": {},
     "output_type": "execute_result"
    }
   ],
   "source": [
    "largest_prime_gap(1000)"
   ]
  },
  {
   "cell_type": "code",
   "execution_count": 41,
   "id": "0cf7560e-28c4-4781-9835-f899a2cc906b",
   "metadata": {},
   "outputs": [
    {
     "data": {
      "text/plain": [
       "5.958083832335329"
      ]
     },
     "execution_count": 41,
     "metadata": {},
     "output_type": "execute_result"
    }
   ],
   "source": [
    "average_prime_gap(1000)"
   ]
  },
  {
   "cell_type": "code",
   "execution_count": 42,
   "id": "150307ad-bdac-4665-a7b4-d819cb12a642",
   "metadata": {},
   "outputs": [
    {
     "data": {
      "text/plain": [
       "12.739098309489535"
      ]
     },
     "execution_count": 42,
     "metadata": {},
     "output_type": "execute_result"
    }
   ],
   "source": [
    "average_prime_gap(1000000)"
   ]
  },
  {
   "cell_type": "code",
   "execution_count": 43,
   "id": "33759e2f-9a76-47f1-a2a1-09946a92f978",
   "metadata": {},
   "outputs": [
    {
     "name": "stdout",
     "output_type": "stream",
     "text": [
      "[2, 3, 5, 7, 11, 101, 131, 151, 181, 191, 313, 353, 373, 383, 727, 757, 787, 797, 919, 929]\n"
     ]
    }
   ],
   "source": [
    "print(palindromic_primes_up_to(1000))"
   ]
  },
  {
   "cell_type": "code",
   "execution_count": 44,
   "id": "afb491af-d794-4efd-b3fa-093700152742",
   "metadata": {},
   "outputs": [
    {
     "data": {
      "text/plain": [
       "{'up_to_n': 1000,\n",
       " 'prime_list': '2, 3, 5, 7, 11, 13, 17, 19, 23, 29, 31, 37, 41, 43, 47, 53, 59, 61, 67, 71, 73, 79, 83, 89, 97, 101, 103, 107, 109, 113, 127, 131, 137, 139, 149, 151, 157, 163, 167, 173, 179, 181, 191, 193, 197, 199, 211, 223, 227, 229, 233, 239, 241, 251, 257, 263, 269, 271, 277, 281, 283, 293, 307, 311, 313, 317, 331, 337, 347, 349, 353, 359, 367, 373, 379, 383, 389, 397, 401, 409, 419, 421, 431, 433, 439, 443, 449, 457, 461, 463, 467, 479, 487, 491, 499, 503, 509, 521, 523, 541, 547, 557, 563, 569, 571, 577, 587, 593, 599, 601, 607, 613, 617, 619, 631, 641, 643, 647, 653, 659, 661, 673, 677, 683, 691, 701, 709, 719, 727, 733, 739, 743, 751, 757, 761, 769, 773, 787, 797, 809, 811, 821, 823, 827, 829, 839, 853, 857, 859, 863, 877, 881, 883, 887, 907, 911, 919, 929, 937, 941, 947, 953, 967, 971, 977, 983, 991, 997',\n",
       " 'prime_count': 168,\n",
       " 'sum_of_primes': 76127,\n",
       " 'product_of_primes': 785655446,\n",
       " 'largest_prime_below': 997,\n",
       " 'smallest_prime_above': 1009,\n",
       " 'largest_prime_gap': (887, 907, 20),\n",
       " 'average_prime_gap': 5.958083832335329,\n",
       " 'palindromic_primes': '2, 3, 5, 7, 11, 101, 131, 151, 181, 191, 313, 353, 373, 383, 727, 757, 787, 797, 919, 929',\n",
       " 'primes_ending_in_1': '11, 31, 41, 61, 71, 101, 131, 151, 181, 191, 211, 241, 251, 271, 281, 311, 331, 401, 421, 431, 461, 491, 521, 541, 571, 601, 631, 641, 661, 691, 701, 751, 761, 811, 821, 881, 911, 941, 971, 991'}"
      ]
     },
     "execution_count": 44,
     "metadata": {},
     "output_type": "execute_result"
    }
   ],
   "source": [
    "prime_summary_up_to(1000,1)"
   ]
  }
 ],
 "metadata": {
  "kernelspec": {
   "display_name": "Python 3 (ipykernel)",
   "language": "python",
   "name": "python3"
  },
  "language_info": {
   "codemirror_mode": {
    "name": "ipython",
    "version": 3
   },
   "file_extension": ".py",
   "mimetype": "text/x-python",
   "name": "python",
   "nbconvert_exporter": "python",
   "pygments_lexer": "ipython3",
   "version": "3.12.4"
  }
 },
 "nbformat": 4,
 "nbformat_minor": 5
}
